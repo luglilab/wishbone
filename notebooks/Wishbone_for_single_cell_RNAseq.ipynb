{
 "cells": [
  {
   "cell_type": "markdown",
   "metadata": {},
   "source": [
    "<h3>Wishbone for single cell RNA-seq</h3>\n",
    "\n",
    "<h4>Table of contents</h4>\n",
    "<br/>\n",
    "<a href='#intro'>Introduction</a>\n",
    "<br/>\n",
    "<a href='#data'>Loading data</a>\n",
    "<br/>\n",
    "<a href='#pre'>Data preprocessing</a>\n",
    "<br/>\n",
    "<a href='#wishbone'>Running Wishbone</a>\n",
    "<br/>\n",
    "<a href='#wishbone2'>Visualizing Wishbone results</a>"
   ]
  },
  {
   "cell_type": "markdown",
   "metadata": {},
   "source": [
    "<a id=\"intro\"></a><h3> Introduction </h3>"
   ]
  },
  {
   "cell_type": "markdown",
   "metadata": {},
   "source": [
    "Wishbone is an algorithm to identify bifurcating developmental trajectories from single cell data. Wishbone can applied to both single cell RNA-seq and mass cytometry datasets. This notebook details the usage of Wishbone for single cell RNA-seq data."
   ]
  },
  {
   "cell_type": "markdown",
   "metadata": {},
   "source": [
    "<a id=\"data\"></a><h3> Loading data </h3>"
   ]
  },
  {
   "cell_type": "markdown",
   "metadata": {},
   "source": [
    "Wishbone can read single cell RNA-seq data from a csv file. The csv file contains cells in the rows and genes in the columns. First step is to import the package. The following code snipped imports the `wishbone` package along with other plotting related imports"
   ]
  },
  {
   "cell_type": "code",
   "execution_count": 1,
   "metadata": {
    "collapsed": false
   },
   "source": [
    "import wishbone\n",
    "\n",
    "# Plotting and miscellaneous imports\n",
    "import os\n",
    "import matplotlib\n",
    "import matplotlib.pyplot as plt\n",
    "\n",
    "%matplotlib inline"
   ],
   "outputs": []
  },
  {
   "cell_type": "markdown",
   "metadata": {
    "collapsed": false
   },
   "source": [
    "A sample RNA-seq csv data is installed at `~/.wishbone/data/sample_scseq_data.csv`. This sample data will be used to demonstrate the utilization and capabilities of the Wishbone package. This is a sample data derived from <a href=\"https://www.ncbi.nlm.nih.gov/pubmed/26627738\">Paul et. al.</a> and represents the differentiation of myeloid and erythroid precursors from hematopoietic stem cells in the mouse bone marrow<br/>\n",
    "The data can be loaded using the `wishbone.wb.SCData.from_csv` function. "
   ]
  },
  {
   "cell_type": "code",
   "execution_count": 2,
   "metadata": {
    "collapsed": false
   },
   "source": [
    "# Load sample data\n",
    "scdata = wishbone.wb.SCData.from_csv(os.path.expanduser('~/.wishbone/data/sample_scseq_data.csv'), \n",
    "                data_type='sc-seq', normalize=True)"
   ],
   "outputs": []
  },
  {
   "cell_type": "markdown",
   "metadata": {},
   "source": [
    "This will create an object of the type `wishbone.wb.SCData` which is the base class for the analysis. This can be either be single cell RNA-seq or mass cytometry and is specified by using `data_type` parameter set to `sc-seq` or `masscyt` respectively. The `normalize` parameter is used for correcting for library size among cells."
   ]
  },
  {
   "cell_type": "markdown",
   "metadata": {},
   "source": [
    "<a id='pca'></a>A summary of the `scdata` object is shown below"
   ]
  },
  {
   "cell_type": "code",
   "execution_count": 3,
   "metadata": {
    "collapsed": false
   },
   "source": [
    "scdata"
   ],
   "outputs": []
  },
  {
   "cell_type": "markdown",
   "metadata": {},
   "source": [
    "This shows that the data matrix contains `4423` cells and `2312` genes along with the different properties of the `wishbone.wb.SCData` class."
   ]
  },
  {
   "cell_type": "markdown",
   "metadata": {},
   "source": [
    "The `scdata` object can also be initialized using a `pandas DataFrame`. An example is shown below <br/>\n",
    "<code>\n",
    "scdata = wishbone.wb.SCData(data_frame, 'sc-seq')\n",
    "scdata = scdata = scdata.normalize_scseq_data()\n",
    "</code>"
   ]
  },
  {
   "cell_type": "markdown",
   "metadata": {},
   "source": [
    "<a id='pre'></a><h3>Data preprocessing</h3>"
   ]
  },
  {
   "cell_type": "markdown",
   "metadata": {},
   "source": [
    "<h4> Principal component analysis </h4>"
   ]
  },
  {
   "cell_type": "markdown",
   "metadata": {},
   "source": [
    "The first step in data processing for Wishbone is to determine metagenes using principal component analysis. This representation is necessary to overcome the extensive dropouts that are pervasive in single cell RNA-seq data"
   ]
  },
  {
   "cell_type": "code",
   "execution_count": 4,
   "metadata": {
    "collapsed": true
   },
   "source": [
    "scdata.run_pca()"
   ],
   "outputs": []
  },
  {
   "cell_type": "markdown",
   "metadata": {},
   "source": [
    "Each of the analysis function updates the `scdata` object. As shown below, the `pca` property of the `scdata` object is now changed to `True` compared to <a href=\"#pca\">`False`</a> when the object was created"
   ]
  },
  {
   "cell_type": "code",
   "execution_count": 5,
   "metadata": {
    "collapsed": false
   },
   "source": [
    "scdata"
   ],
   "outputs": []
  },
  {
   "cell_type": "markdown",
   "metadata": {},
   "source": [
    "The results of PCA i.e., the fraction of variance explained by each component can be visualized using the function `plot_pca_variance_explained`. Use the `ylim` and `n_components` parameters to set the y-axis limits and visualize variance explained by `n_components` respectively. Typically, most of the variance is explained by the first few components (No more than 15)."
   ]
  },
  {
   "cell_type": "code",
   "execution_count": 6,
   "metadata": {
    "collapsed": false,
    "scrolled": false
   },
   "source": [
    "fig, ax = scdata.plot_pca_variance_explained(ylim=(0, 0.1), n_components=30)"
   ],
   "outputs": []
  },
  {
   "cell_type": "markdown",
   "metadata": {
    "collapsed": true
   },
   "source": [
    "From this, choose the appropriate number of components using the elbow method. While `tSNE` visualization is sensitive to the number of components chosen, downstream results are robust to this parameter. "
   ]
  },
  {
   "cell_type": "markdown",
   "metadata": {},
   "source": [
    "<h4> tSNE visualization </h4>"
   ]
  },
  {
   "cell_type": "markdown",
   "metadata": {},
   "source": [
    "Wishbone uses tSNE for visualization and tSNE can be run using the `run_tsne` function which takes the number of principal components as the parameter. From the above plot, 5 seems an appropriate number of components to use."
   ]
  },
  {
   "cell_type": "code",
   "execution_count": 7,
   "metadata": {
    "collapsed": false
   },
   "source": [
    "NO_CMPNTS = 5\n",
    "scdata.run_tsne(n_components=NO_CMPNTS, perplexity=30)"
   ],
   "outputs": []
  },
  {
   "cell_type": "markdown",
   "metadata": {},
   "source": [
    "`perplexity` by default is set 30. This will be reduced automatically to 15 is the number of cells is less than 100. "
   ]
  },
  {
   "cell_type": "markdown",
   "metadata": {},
   "source": [
    "tSNE results can be visualized by the `plot_tsne` and `plot_tsne_by_cell_sizes` functions. The `plot_tsne_by_cell_sizes` function colors the cells by their molecule counts before normalization"
   ]
  },
  {
   "cell_type": "code",
   "execution_count": 8,
   "metadata": {
    "collapsed": false
   },
   "source": [
    "fig, ax = scdata.plot_tsne()"
   ],
   "outputs": []
  },
  {
   "cell_type": "code",
   "execution_count": 9,
   "metadata": {
    "collapsed": false
   },
   "source": [
    "fig = plt.figure(figsize=[5, 4])\n",
    "scdata.plot_tsne_by_cell_sizes(fig=fig)"
   ],
   "outputs": []
  },
  {
   "cell_type": "markdown",
   "metadata": {},
   "source": [
    "Gene expression can be visualized on tSNE maps using the `plot_gene_expression` function. The `genes` parameter is an string iterable of genes, which are a subset of the expression of column names. The below function plots the expression of HSC gene `CD34`, myeloid gene `MPO` and erythroid precursor genes `GATA2` and `GATA1`. "
   ]
  },
  {
   "cell_type": "code",
   "execution_count": 10,
   "metadata": {
    "collapsed": false
   },
   "source": [
    "fig, ax = scdata.plot_gene_expression(genes = ['CD34', 'GATA2', 'GATA1', 'MPO'])"
   ],
   "outputs": []
  },
  {
   "cell_type": "markdown",
   "metadata": {},
   "source": [
    "<h4> Diffusion maps </h4>"
   ]
  },
  {
   "cell_type": "markdown",
   "metadata": {},
   "source": [
    "Wishbone uses diffusion maps, a non-linear dimensionality reduction technique to denoise the data and capture the major axes of variation. Diffusion maps can be determined by using the `run_diffusion_map` function and the diffusion components visualized on tSNE maps using `plot_diffusion_components`."
   ]
  },
  {
   "cell_type": "code",
   "execution_count": 11,
   "metadata": {
    "collapsed": false
   },
   "source": [
    "# Run diffusion maps\n",
    "scdata.run_diffusion_map()"
   ],
   "outputs": []
  },
  {
   "cell_type": "code",
   "execution_count": 12,
   "metadata": {
    "collapsed": false
   },
   "source": [
    "fig, ax = scdata.plot_diffusion_components()"
   ],
   "outputs": []
  },
  {
   "cell_type": "markdown",
   "metadata": {},
   "source": [
    "Note the component 0 is the trivial component and does not encode any information of the data"
   ]
  },
  {
   "cell_type": "markdown",
   "metadata": {},
   "source": [
    "Unlike mass cytometry data, the differentiation signals in single cell RNA-seq data by virtue of measuring the transcriptome are confounded by biological processes such as stress, cell cycle and metabolism. Since diffusion components, capture the major axes of variation, Wishbone uses <a href=\"http://software.broadinstitute.org/gsea/index.jsp\">gene set enrichment analysis</a> among of genes along the top diffusion components to remove components that encode confounding signals. The relevant signals are usually present in the top 2-3 diffusion components <br/>\n",
    "\n",
    "The first step in computing these enrichments is to determine the correlation of gene expression along each component to derive a ranking of genes along each component."
   ]
  },
  {
   "cell_type": "code",
   "execution_count": 13,
   "metadata": {
    "collapsed": false
   },
   "source": [
    "scdata.run_diffusion_map_correlations()"
   ],
   "outputs": []
  },
  {
   "cell_type": "markdown",
   "metadata": {},
   "source": [
    "The function `plot_gene_component_correlations` shows the distribution of correlations along each component."
   ]
  },
  {
   "cell_type": "code",
   "execution_count": 14,
   "metadata": {
    "collapsed": false
   },
   "source": [
    "fig, ax = scdata.plot_gene_component_correlations()"
   ],
   "outputs": []
  },
  {
   "cell_type": "markdown",
   "metadata": {},
   "source": [
    "The enrichments can be determined using the `run_gsea` function. This function needs the prefix for generating GSEA reports and a `gmt` file representing the different gene sets. The following invocation of the function shows the supported set of `gmt` files"
   ]
  },
  {
   "cell_type": "markdown",
   "metadata": {},
   "source": [
    "<b>Note: </b> The gmt files package with Wishbone assume all the gene names to be upper case. This can be ensured using the following code snipped."
   ]
  },
  {
   "cell_type": "code",
   "execution_count": 15,
   "metadata": {
    "collapsed": false
   },
   "source": [
    "scdata.data.columns = scdata.data.columns.str.upper()"
   ],
   "outputs": []
  },
  {
   "cell_type": "code",
   "execution_count": 16,
   "metadata": {
    "collapsed": false
   },
   "source": [
    "scdata.run_gsea( output_stem= os.path.expanduser('~/.wishbone/gsea/mouse_marrow'))"
   ],
   "outputs": []
  },
  {
   "cell_type": "markdown",
   "metadata": {},
   "source": [
    "Since this is data from mouse, `gmt_file` parameter can be set to `(mouse, gofat.bp.v1.0.gmt.txt)`"
   ]
  },
  {
   "cell_type": "code",
   "execution_count": 17,
   "metadata": {
    "collapsed": false,
    "scrolled": false
   },
   "source": [
    "reports = scdata.run_gsea(output_stem= os.path.expanduser('~/.wishbone/gsea/mouse_marrow'), \n",
    "                    gmt_file=('mouse', 'gofat.bp.v1.0.gmt.txt'))"
   ],
   "outputs": []
  },
  {
   "cell_type": "markdown",
   "metadata": {},
   "source": [
    "The detailed reports can be found at `~/.wishbone/gsea/`"
   ]
  },
  {
   "cell_type": "code",
   "execution_count": 18,
   "metadata": {
    "collapsed": true
   },
   "source": [
    "!open ~/.wishbone/gsea/"
   ],
   "outputs": []
  },
  {
   "cell_type": "markdown",
   "metadata": {},
   "source": [
    "`run_gsea` function also returns the top enrichment gene sets along each component. GSEA determines enrichments that are either positively or negatively correlated with the gene component correlations. In this datasets, components 1 and 2 show relevant enrichments and are used for running Wishbone. Please see `Selection of diffusion components for single cell RNA-seq` section of the Supplementary Methods for more details."
   ]
  },
  {
   "cell_type": "code",
   "execution_count": 19,
   "metadata": {
    "collapsed": false
   },
   "source": [
    "# Component 1 enrichments\n",
    "reports[1]['neg']"
   ],
   "outputs": []
  },
  {
   "cell_type": "code",
   "execution_count": 20,
   "metadata": {
    "collapsed": false
   },
   "source": [
    "# Component 2 enrichments\n",
    "reports[2]['pos']"
   ],
   "outputs": []
  },
  {
   "cell_type": "markdown",
   "metadata": {},
   "source": [
    "<h4> Saving SCData object </h4>"
   ]
  },
  {
   "cell_type": "markdown",
   "metadata": {},
   "source": [
    "The `SCData` object can be saved to a pickle file and loaded using the `save` and `load` functions.\n",
    "<code>\n",
    "scdata.save('mouse_marrow_scdata.p')\n",
    "scdata = wishbone.wb.SCdata.load('mouse_marrow_scdata.p')\n",
    "</code>"
   ]
  },
  {
   "cell_type": "markdown",
   "metadata": {},
   "source": [
    "<a id=\"wishbone\"></a><h3> Running Wishbone </h3>"
   ]
  },
  {
   "cell_type": "markdown",
   "metadata": {},
   "source": [
    "`wishbone.wb.Wishbone` is the class for running Wishbone. After initialization, Wishbone can be run by specifying the start cell, components to use and number of waypoints to be used. The start cell for this dataset was chosen based on high expression of CD34."
   ]
  },
  {
   "cell_type": "code",
   "execution_count": 21,
   "metadata": {
    "collapsed": false,
    "scrolled": false
   },
   "source": [
    "# Wishbone class\n",
    "wb = wishbone.wb.Wishbone(scdata)\n",
    "wb.run_wishbone(start_cell='W30258', components_list=[1, 2], num_waypoints=150)"
   ],
   "outputs": []
  },
  {
   "cell_type": "markdown",
   "metadata": {},
   "source": [
    "`Wishbone` objects contain the `SCData` object along with the identified trajectory, branch associations and waypoints"
   ]
  },
  {
   "cell_type": "code",
   "execution_count": 22,
   "metadata": {
    "collapsed": false
   },
   "source": [
    "wb"
   ],
   "outputs": []
  },
  {
   "cell_type": "markdown",
   "metadata": {},
   "source": [
    "<a id=\"wishbone2\"></a><h3> Visualizing Wishbone results </h3>"
   ]
  },
  {
   "cell_type": "markdown",
   "metadata": {},
   "source": [
    "Wishbone trajectory and branch results can be visualized on tSNE maps using the `plot_wishbone_on_tsne` function"
   ]
  },
  {
   "cell_type": "code",
   "execution_count": 23,
   "metadata": {
    "collapsed": false
   },
   "source": [
    "fig, ax = wb.plot_wishbone_on_tsne()"
   ],
   "outputs": []
  },
  {
   "cell_type": "markdown",
   "metadata": {},
   "source": [
    "Gene expression trends along the Wishbone trajectory can be visualized using the `plot_marker_trajectory` function. This function also returns the smoothed trends along with the matplotlib fig, ax handler objects."
   ]
  },
  {
   "cell_type": "code",
   "execution_count": 24,
   "metadata": {
    "collapsed": false,
    "scrolled": false
   },
   "source": [
    "vals, fig, ax = wb.plot_marker_trajectory(['CD34', 'GATA1', 'GATA2', 'MPO']);"
   ],
   "outputs": []
  },
  {
   "cell_type": "markdown",
   "metadata": {},
   "source": [
    "The marker trends can be visualized as heatmaps in a given trajectory range using the following functions"
   ]
  },
  {
   "cell_type": "code",
   "execution_count": 25,
   "metadata": {
    "collapsed": false
   },
   "source": [
    "wb.plot_marker_heatmap(vals)"
   ],
   "outputs": []
  },
  {
   "cell_type": "code",
   "execution_count": 26,
   "metadata": {
    "collapsed": false
   },
   "source": [
    "wb.plot_marker_heatmap(vals, trajectory_range=[0.1, 0.6])"
   ],
   "outputs": []
  },
  {
   "cell_type": "markdown",
   "metadata": {},
   "source": [
    "The change in marker trends along the trajectory or derivatives can be visualized using these functions"
   ]
  },
  {
   "cell_type": "code",
   "execution_count": 27,
   "metadata": {
    "collapsed": false
   },
   "source": [
    "wb.plot_derivatives(vals)"
   ],
   "outputs": []
  },
  {
   "cell_type": "code",
   "execution_count": 28,
   "metadata": {
    "collapsed": false
   },
   "source": [
    "wb.plot_derivatives(vals, trajectory_range=[0.3, 0.6])"
   ],
   "outputs": []
  },
  {
   "cell_type": "markdown",
   "metadata": {},
   "source": [
    "Similar to `SCData` objects, `Wishbone` objects can also be saved and loaded using `save` and `load` functions."
   ]
  }
 ],
 "metadata": {
  "kernelspec": {
   "display_name": "Python 3",
   "language": "python",
   "name": "python3"
  },
  "language_info": {
   "codemirror_mode": {
    "name": "ipython",
    "version": 3
   },
   "file_extension": ".py",
   "mimetype": "text/x-python",
   "name": "python",
   "nbconvert_exporter": "python",
   "pygments_lexer": "ipython3",
   "version": "3.5.0"
  }
 },
 "nbformat": 4,
 "nbformat_minor": 0
}
