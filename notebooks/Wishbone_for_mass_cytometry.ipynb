{
 "cells": [
  {
   "cell_type": "markdown",
   "metadata": {},
   "source": [
    "<h3>Wishbone for mass cytometry</h3>\n",
    "\n",
    "<h4>Table of contents</h4>\n",
    "<br/>\n",
    "<a href='#intro'>Introduction</a>\n",
    "<br/>\n",
    "<a href='#data'>Loading data</a>\n",
    "<br/>\n",
    "<a href='#pre'>Data preprocessing</a>\n",
    "<br/>\n",
    "<a href='#wishbone'>Running Wishbone</a>\n",
    "<br/>\n",
    "<a href='#wishbone2'>Visualizing Wishbone results</a>\n",
    "<br/>\n",
    "<a href='#pheno'>Clustering of cells</a>\n",
    "<br/>\n",
    "<a href='#gating'>Gating for start cells</a>"
   ]
  },
  {
   "cell_type": "markdown",
   "metadata": {},
   "source": [
    "<a id=\"intro\"></a><h3> Introduction </h3>"
   ]
  },
  {
   "cell_type": "markdown",
   "metadata": {},
   "source": [
    "Wishbone is an algorithm to identify bifurcating developmental trajectories from single cell data. Wishbone can applied to both single cell RNA-seq and mass cytometry datasets. This notebook details the usage of Wishbone for mass cytometry data."
   ]
  },
  {
   "cell_type": "markdown",
   "metadata": {},
   "source": [
    "<a id=\"data\"></a><h3> Loading data </h3>"
   ]
  },
  {
   "cell_type": "markdown",
   "metadata": {},
   "source": [
    "Wishbone can read mass cytometry data from a fcs file. The following code snipped imports the `wishbone` package along with other plotting related imports"
   ]
  },
  {
   "cell_type": "code",
   "execution_count": 1,
   "metadata": {
    "collapsed": false
   },
   "source": [
    "import wishbone\n",
    "\n",
    "# Plotting and miscellaneous imports\n",
    "import os\n",
    "import pandas as pd\n",
    "import numpy as np\n",
    "import matplotlib\n",
    "import matplotlib.pyplot as plt\n",
    "import seaborn as sns\n",
    "import random\n",
    "\n",
    "%matplotlib inline"
   ],
   "outputs": []
  },
  {
   "cell_type": "markdown",
   "metadata": {},
   "source": [
    "A sample mass cytometry fcs file is installed at `~/.wishbone/data/sample_masscyt.fcs`. This is a sample of cells from replicate of the mouse thymus data generated for the Wishbone manuscript. Thus the data is already cleaned and `arcsinh` transformed. The data can be loaded using the `wishbone.wb.SCData.from_fcs` function. "
   ]
  },
  {
   "cell_type": "code",
   "execution_count": 2,
   "metadata": {
    "collapsed": false
   },
   "source": [
    "# Load sample data\n",
    "scdata = wishbone.wb.SCData.from_fcs(os.path.expanduser('~/.wishbone/data/sample_masscyt.fcs'), \n",
    "            cofactor=None)"
   ],
   "outputs": []
  },
  {
   "cell_type": "markdown",
   "metadata": {},
   "source": [
    "This will create an object of the type `wishbone.wb.SCData` which is the base class for the analysis. The `cofactor` parameter is used for `arcsinh` transformation. Since the data is already transformed, `cofactor` is set to `None`. Typically, this parameter will be set to default (`5`) for untransformed data."
   ]
  },
  {
   "cell_type": "markdown",
   "metadata": {},
   "source": [
    "A summary of the `scdata` object is shown below"
   ]
  },
  {
   "cell_type": "code",
   "execution_count": 3,
   "metadata": {
    "collapsed": false
   },
   "source": [
    "scdata"
   ],
   "outputs": []
  },
  {
   "cell_type": "markdown",
   "metadata": {},
   "source": [
    "This shows that the data matrix contains `25000` cells and `13` markers along with the different properties of the `wishbone.wb.SCData` class."
   ]
  },
  {
   "cell_type": "markdown",
   "metadata": {},
   "source": [
    "<a id='pre'></a><h3>Data preprocessing</h3>"
   ]
  },
  {
   "cell_type": "markdown",
   "metadata": {},
   "source": [
    "<h4> tSNE visualization </h4>"
   ]
  },
  {
   "cell_type": "markdown",
   "metadata": {},
   "source": [
    "Wishbone uses tSNE for visualization and tSNE can be run using the `run_tsne` function. Unlike single cell RNA-seq data, `tSNE` is run directly on the transformed data for mass cytometry. "
   ]
  },
  {
   "cell_type": "code",
   "execution_count": 4,
   "metadata": {
    "collapsed": false
   },
   "source": [
    "scdata.run_tsne()"
   ],
   "outputs": []
  },
  {
   "cell_type": "markdown",
   "metadata": {},
   "source": [
    "tSNE results can be visualized by the `plot_tsne` function. "
   ]
  },
  {
   "cell_type": "code",
   "execution_count": 5,
   "metadata": {
    "collapsed": false
   },
   "source": [
    "fig, ax = scdata.plot_tsne()"
   ],
   "outputs": []
  },
  {
   "cell_type": "markdown",
   "metadata": {},
   "source": [
    "Gene expression can be visualized on tSNE maps using the `plot_gene_expression` function. The `genes` parameter is an string iterable of genes, which are a subset of the expression of column names. The below function plots the expression of DN genes `CD44` and `CD25`, SP genes `CD4` and `CD8`"
   ]
  },
  {
   "cell_type": "code",
   "execution_count": 6,
   "metadata": {
    "collapsed": false
   },
   "source": [
    "fig, ax = scdata.plot_gene_expression(['CD44', 'CD25', 'CD4', 'CD8'])"
   ],
   "outputs": []
  },
  {
   "cell_type": "markdown",
   "metadata": {},
   "source": [
    "The below example shows how the user can compare expression of the desired markers. The plot comparing expression of `CD8` and `CD4` is shown below"
   ]
  },
  {
   "cell_type": "code",
   "execution_count": 7,
   "metadata": {
    "collapsed": false
   },
   "source": [
    "fig, ax = wishbone.wb.get_fig()\n",
    "plt.scatter(scdata.data['CD8'], scdata.data['CD4'], \n",
    "    s=10, edgecolors='none')\n",
    "plt.xlim([0, 6])\n",
    "plt.ylim([0, 6])\n",
    "plt.xlabel('CD8')\n",
    "plt.ylabel('CD4')"
   ],
   "outputs": []
  },
  {
   "cell_type": "markdown",
   "metadata": {},
   "source": [
    "<h4> Diffusion maps </h4>"
   ]
  },
  {
   "cell_type": "markdown",
   "metadata": {},
   "source": [
    "Wishbone uses diffusion maps, a non-linear dimensionality reduction technique to denoise the data and capture the major axes of variation. Diffusion maps can be determined by using the `run_diffusion_map` function and the diffusion components visualized on tSNE maps using `plot_diffusion_components`."
   ]
  },
  {
   "cell_type": "code",
   "execution_count": 8,
   "metadata": {
    "collapsed": false
   },
   "source": [
    "# Run diffusion maps\n",
    "scdata.run_diffusion_map()"
   ],
   "outputs": []
  },
  {
   "cell_type": "code",
   "execution_count": 9,
   "metadata": {
    "collapsed": false
   },
   "source": [
    "fig, ax = scdata.plot_diffusion_components()"
   ],
   "outputs": []
  },
  {
   "cell_type": "markdown",
   "metadata": {},
   "source": [
    "Note the component 0 is the trivial component with eigen value 1 and does not encode any information of the data"
   ]
  },
  {
   "cell_type": "markdown",
   "metadata": {},
   "source": [
    "From the above plots, the first three non-trivial components (Components 1, 2, 3), capture the differences between cell types. This difference in information encoded can be clearly seen by the eigen values associated with these components. Simiar to PCA, the eigen values encode the amount of variance explained in the data and can be visualized usign the `plot_diffusion_eigen_vectors` function."
   ]
  },
  {
   "cell_type": "code",
   "execution_count": 10,
   "metadata": {
    "collapsed": false
   },
   "source": [
    "scdata.plot_diffusion_eigen_vectors()"
   ],
   "outputs": []
  },
  {
   "cell_type": "markdown",
   "metadata": {},
   "source": [
    "A clear drop-off in eigen value can be seen after component 3. Thus Wishbone will be run using components 1, 2 and 3"
   ]
  },
  {
   "cell_type": "markdown",
   "metadata": {},
   "source": [
    "<h4> Saving SCData object </h4>"
   ]
  },
  {
   "cell_type": "markdown",
   "metadata": {},
   "source": [
    "The `SCData` object can be saved to a pickle file and loaded using the `save` and `load` functions.\n",
    "<code>\n",
    "scdata.save('mouse_thymus_scdata.p')\n",
    "scdata = wishbone.wb.SCdata.load('mouse_thymus_scdata.p')\n",
    "</code>"
   ]
  },
  {
   "cell_type": "markdown",
   "metadata": {},
   "source": [
    "<a id=\"wishbone\"></a><h3> Running Wishbone </h3>"
   ]
  },
  {
   "cell_type": "markdown",
   "metadata": {},
   "source": [
    "`wishbone.wb.Wishbone` is the class for running Wishbone. After initialization, Wishbone can be run by specifying the start cell, components to use and number of waypoints to be used. The start cell for this dataset is one of the DN cells based on expression of CD4 and CD8. A sample list of waypoints is also provided as part of the data. The parameter can also be an integer representing the number of waypoints to be sampled from the data."
   ]
  },
  {
   "cell_type": "code",
   "execution_count": 11,
   "metadata": {
    "collapsed": false
   },
   "source": [
    "# Start cell\n",
    "start_cell = scdata.data.index[(scdata.data['CD4'] < 1) & (scdata.data['CD8'] < 1)][0]\n",
    "# Waypoints\n",
    "waypoints = pd.DataFrame.from_csv(os.path.expanduser('~/.wishbone/data/masscyt_waypoints.csv')).iloc[:, 0]\n",
    "waypoints = list(waypoints)"
   ],
   "outputs": []
  },
  {
   "cell_type": "code",
   "execution_count": 12,
   "metadata": {
    "collapsed": false,
    "scrolled": false
   },
   "source": [
    "# Wishbone class\n",
    "wb = wishbone.wb.Wishbone(scdata)\n",
    "wb.run_wishbone(start_cell, components_list=[1, 2, 3], num_waypoints=waypoints)"
   ],
   "outputs": []
  },
  {
   "cell_type": "markdown",
   "metadata": {},
   "source": [
    "`Wishbone` objects contain the `SCData` object along with the identified trajectory, branch associations and waypoints"
   ]
  },
  {
   "cell_type": "code",
   "execution_count": 13,
   "metadata": {
    "collapsed": false
   },
   "source": [
    "wb"
   ],
   "outputs": []
  },
  {
   "cell_type": "markdown",
   "metadata": {},
   "source": [
    "<a id=\"wishbone2\"></a><h3> Visualizing Wishbone results </h3>"
   ]
  },
  {
   "cell_type": "markdown",
   "metadata": {},
   "source": [
    "Wishbone trajectory and branch results can be visualized on tSNE maps using the `plot_wishbone_on_tsne` function"
   ]
  },
  {
   "cell_type": "code",
   "execution_count": 14,
   "metadata": {
    "collapsed": false
   },
   "source": [
    "fig, ax = wb.plot_wishbone_on_tsne()"
   ],
   "outputs": []
  },
  {
   "cell_type": "markdown",
   "metadata": {},
   "source": [
    "Gene expression trends along the Wishbone trajectory can be visualized using the `plot_marker_trajectory` function. This function also returns the smoothed trends along with the matplotlib fig, ax handler objects."
   ]
  },
  {
   "cell_type": "code",
   "execution_count": 15,
   "metadata": {
    "collapsed": false,
    "scrolled": false
   },
   "source": [
    "vals, fig, ax = wb.plot_marker_trajectory(['CD4', 'CD8', 'CD44'], \n",
    "                    smoothing_factor=1.5, show_variance=True);"
   ],
   "outputs": []
  },
  {
   "cell_type": "markdown",
   "metadata": {},
   "source": [
    "The marker trends can be visualized as heatmaps in a given trajectory range using the following functions"
   ]
  },
  {
   "cell_type": "code",
   "execution_count": 16,
   "metadata": {
    "collapsed": false
   },
   "source": [
    "fig, ax = wb.plot_marker_heatmap(vals)"
   ],
   "outputs": []
  },
  {
   "cell_type": "code",
   "execution_count": 17,
   "metadata": {
    "collapsed": false
   },
   "source": [
    "fig, ax = wb.plot_marker_heatmap(vals, trajectory_range=[0.1, 0.6])"
   ],
   "outputs": []
  },
  {
   "cell_type": "markdown",
   "metadata": {},
   "source": [
    "The change in marker trends along the trajectory or derivatives can be visualized using these functions"
   ]
  },
  {
   "cell_type": "code",
   "execution_count": 18,
   "metadata": {
    "collapsed": false
   },
   "source": [
    "fig, ax = wb.plot_derivatives(vals)"
   ],
   "outputs": []
  },
  {
   "cell_type": "code",
   "execution_count": 19,
   "metadata": {
    "collapsed": false
   },
   "source": [
    "fig, ax = wb.plot_derivatives(vals, trajectory_range=[0.3, 0.6])"
   ],
   "outputs": []
  },
  {
   "cell_type": "markdown",
   "metadata": {},
   "source": [
    "Similar to `SCData` objects, `Wishbone` objects can also be saved and loaded using `save` and `load` functions."
   ]
  },
  {
   "cell_type": "markdown",
   "metadata": {},
   "source": [
    "<a id='pheno'></a><h3>Clustering of cells </h3>"
   ]
  },
  {
   "cell_type": "markdown",
   "metadata": {},
   "source": [
    "Clustering of cells to identify phenopytically distinct populations can be performed using the `run_phenograph` function. This function uses <a href=\"\">Phenograph</a> to cluster the cells. Phenograph was used in the Wishbone manuscript to filter out stromal cells and regulatory T cells from the mouse thymus"
   ]
  },
  {
   "cell_type": "code",
   "execution_count": 20,
   "metadata": {
    "collapsed": false
   },
   "source": [
    "scdata.run_phenograph()"
   ],
   "outputs": []
  },
  {
   "cell_type": "markdown",
   "metadata": {},
   "source": [
    "The results of Phenograph can be visualized on the tSNE maps using the function `plot_phenograph_clusters` and the mean expression of all markers in each cluster can be visualized as a heatmap using the function `summarize_phenograph_clusters`"
   ]
  },
  {
   "cell_type": "code",
   "execution_count": 21,
   "metadata": {
    "collapsed": false
   },
   "source": [
    "fig, ax = scdata.plot_phenograph_clusters()"
   ],
   "outputs": []
  },
  {
   "cell_type": "code",
   "execution_count": 22,
   "metadata": {
    "collapsed": false
   },
   "source": [
    "fig, ax = scdata.summarize_phenograph_clusters()"
   ],
   "outputs": []
  },
  {
   "cell_type": "markdown",
   "metadata": {},
   "source": [
    "Finally, a new `SCData` with cells belonging to a subset of clusters can be generated using the `select_clusters` function"
   ]
  },
  {
   "cell_type": "code",
   "execution_count": 23,
   "metadata": {
    "collapsed": false
   },
   "source": [
    "new_scd = scdata.select_clusters([0, 1, 2, 3])\n",
    "new_scd"
   ],
   "outputs": []
  },
  {
   "cell_type": "markdown",
   "metadata": {},
   "source": [
    "<a id='gating'></a><h3>Gating for start cells </h3>"
   ]
  },
  {
   "cell_type": "markdown",
   "metadata": {},
   "source": [
    "The python implementation of Wishbone does not yet support the specification of a get for start cells. This section provides information about how to choose a cell from a desired section of the tSNE plot"
   ]
  },
  {
   "cell_type": "markdown",
   "metadata": {},
   "source": [
    "As a first step, change the plotting defaults to show the axes on tSNE maps and use alternative `matplotlib` settings to have the ability to zoom in and out\n"
   ]
  },
  {
   "cell_type": "code",
   "execution_count": 30,
   "metadata": {
    "collapsed": false
   },
   "source": [
    "%matplotlib notebook\n",
    "sns.set_style('whitegrid')"
   ],
   "outputs": []
  },
  {
   "cell_type": "markdown",
   "metadata": {},
   "source": [
    "Plot tSNE results on a scatter plot"
   ]
  },
  {
   "cell_type": "code",
   "execution_count": 31,
   "metadata": {
    "collapsed": false
   },
   "source": [
    "plt.figure(figsize=[5, 5])\n",
    "plt.scatter(scdata.tsne['x'], scdata.tsne['y'], s=10, edgecolors='none')"
   ],
   "outputs": []
  },
  {
   "cell_type": "markdown",
   "metadata": {},
   "source": [
    "The gate can be set using the `matplotlib.path` functions. Make sure to choose a closed path by specifying the x-y co ordinates of the desired gate."
   ]
  },
  {
   "cell_type": "code",
   "execution_count": 26,
   "metadata": {
    "collapsed": false
   },
   "source": [
    "# The gate should be specified as x1, y1, x2, y2,....xn, yn\n",
    "gate = matplotlib.path.Path(np.reshape([30, -20, 40, -20, 40, -10, 30, -10, 30, -20], [5, 2]))"
   ],
   "outputs": []
  },
  {
   "cell_type": "markdown",
   "metadata": {},
   "source": [
    "The cells within the `gate` can be identified and plotted using the following code snippet"
   ]
  },
  {
   "cell_type": "code",
   "execution_count": 27,
   "metadata": {
    "collapsed": false
   },
   "source": [
    "gated_cells = scdata.tsne.index[gate.contains_points(scdata.tsne)]\n",
    "\n",
    "# Plot the gated cells\n",
    "%matplotlib inline\n",
    "plt.figure(figsize=[5, 5])\n",
    "plt.scatter(scdata.tsne['x'], scdata.tsne['y'], s=10, edgecolors='none', color='lightgrey')\n",
    "plt.scatter(scdata.tsne.ix[gated_cells, 'x'], scdata.tsne.ix[gated_cells, 'y'], s=10, edgecolors='none')"
   ],
   "outputs": []
  },
  {
   "cell_type": "markdown",
   "metadata": {},
   "source": [
    "Randomly select one of the cells from the gated cells as the start cell"
   ]
  },
  {
   "cell_type": "code",
   "execution_count": 28,
   "metadata": {
    "collapsed": false
   },
   "source": [
    "start_cell = random.sample(list(gated_cells), 1)[0]\n",
    "start_cell"
   ],
   "outputs": []
  }
 ],
 "metadata": {
  "kernelspec": {
   "display_name": "Python 3",
   "language": "python",
   "name": "python3"
  },
  "language_info": {
   "codemirror_mode": {
    "name": "ipython",
    "version": 3
   },
   "file_extension": ".py",
   "mimetype": "text/x-python",
   "name": "python",
   "nbconvert_exporter": "python",
   "pygments_lexer": "ipython3",
   "version": "3.5.0"
  }
 },
 "nbformat": 4,
 "nbformat_minor": 0
}
